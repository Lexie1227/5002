{
  "nbformat": 4,
  "nbformat_minor": 0,
  "metadata": {
    "colab": {
      "name": "assignment.ipynb",
      "provenance": [],
      "collapsed_sections": [],
      "history_visible": true,
      "authorship_tag": "ABX9TyPvLy9VEuQ2T8Si1Oe8Ubzx",
      "include_colab_link": true
    },
    "kernelspec": {
      "name": "python3",
      "display_name": "Python 3"
    },
    "language_info": {
      "name": "python"
    }
  },
  "cells": [
    {
      "cell_type": "markdown",
      "metadata": {
        "id": "view-in-github",
        "colab_type": "text"
      },
      "source": [
        "<a href=\"https://colab.research.google.com/github/Lexie1227/5002/blob/main/assignment.ipynb\" target=\"_parent\"><img src=\"https://colab.research.google.com/assets/colab-badge.svg\" alt=\"Open In Colab\"/></a>"
      ]
    },
    {
      "cell_type": "markdown",
      "metadata": {
        "id": "4FQohFlSJFdg"
      },
      "source": [
        "**assignment **\n",
        "jingshu zhang\n",
        "\n",
        "1. choose an company(facebook)\n",
        "2. get information from yahoo finance\n",
        "use symbblo to go the profile page\n",
        "3. get table\n"
      ]
    },
    {
      "cell_type": "code",
      "metadata": {
        "colab": {
          "base_uri": "https://localhost:8080/"
        },
        "id": "oZ_-5v65B4xk",
        "outputId": "748bddaa-d267-4268-c1cf-3b6008fe1013"
      },
      "source": [
        "#use ticker to get page\n",
        "company_ticker = input(\"What is your Company's Stock Market Ticker Symbol? \")\n",
        "url = \"https://au.finance.yahoo.com/quote/{}/profile?p={}\".format(company_ticker,company_ticker)\n",
        "print(url)"
      ],
      "execution_count": 17,
      "outputs": [
        {
          "output_type": "stream",
          "name": "stdout",
          "text": [
            "What is your Company's Stock Market Ticker Symbol? FB\n",
            "https://au.finance.yahoo.com/quote/FB/profile?p=FB\n"
          ]
        }
      ]
    },
    {
      "cell_type": "code",
      "metadata": {
        "id": "6_1YXzhDyghL"
      },
      "source": [
        "# Usually run of Google Coolab, so install unique packages\n",
        "!pip install kora -q\n",
        "\n",
        "#load packages\n",
        "from bs4 import BeautifulSoup\n",
        "from kora.selenium import wd\n",
        "import pandas as pd"
      ],
      "execution_count": 18,
      "outputs": []
    },
    {
      "cell_type": "code",
      "metadata": {
        "id": "LiF8iVMu_E6w"
      },
      "source": [
        "def build_url():\n",
        "  # User input ticker symbol\n",
        "  ticker_symbol = input(\"Please input ticker symbol \")\n",
        "  # print(ticker_symbol)\n",
        "  example_url = 'https://au.finance.yahoo.com/quote/{}/profile?p={}'\n",
        "  result = example_url.format(ticker_symbol, ticker_symbol)\n",
        "  return result"
      ],
      "execution_count": 7,
      "outputs": []
    },
    {
      "cell_type": "code",
      "metadata": {
        "id": "6hPBS40p1v-i"
      },
      "source": [
        "def get_first_3_cells(row):\n",
        "  cells = row.find_all('td')\n",
        "  name = cells[0].text\n",
        "  title = cells[1].text\n",
        "  pay = cells[2].text\n",
        "  return {'name': name, 'title': title, 'pay': pay}"
      ],
      "execution_count": 2,
      "outputs": []
    },
    {
      "cell_type": "code",
      "metadata": {
        "id": "iSYjZ6G64kik"
      },
      "source": [
        "def get_rows(soup):\n",
        "  # Get the table!\n",
        "  table = soup.find('table')\n",
        "\n",
        "  # get to the row\n",
        "  body = table.find('tbody')\n",
        "  rows = body.find_all('tr')\n",
        "  return rows\n"
      ],
      "execution_count": 3,
      "outputs": []
    },
    {
      "cell_type": "code",
      "metadata": {
        "id": "6VZJcy216tci"
      },
      "source": [
        "def get_exec_records(): \n",
        "  table = soup.find('table')\n",
        "  body =table.find('tbody')\n",
        "  rows = body.find_all('tr')\n",
        "  \n",
        "  exec_records = []\n",
        "  for row in rows:\n",
        "    result = get_first_3_cells(row)\n",
        "    exec_records.append(result)\n",
        "  return exec_records"
      ],
      "execution_count": 4,
      "outputs": []
    },
    {
      "cell_type": "code",
      "metadata": {
        "id": "SqzjgA3Iy0wo"
      },
      "source": [
        "#GET URL\n",
        "url = build_url\n",
        "wd.get(url)\n",
        "soup = BeautifulSoup(wd.page_source,\"html.parser\")\n",
        "get_exec_records()\n"
      ],
      "execution_count": null,
      "outputs": []
    }
  ]
}