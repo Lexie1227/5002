{
  "nbformat": 4,
  "nbformat_minor": 0,
  "metadata": {
    "colab": {
      "name": "assignment.ipynb",
      "provenance": [],
      "collapsed_sections": [],
      "authorship_tag": "ABX9TyP4lMc8nalf/PMUwDE3wtxT",
      "include_colab_link": true
    },
    "kernelspec": {
      "name": "python3",
      "display_name": "Python 3"
    },
    "language_info": {
      "name": "python"
    }
  },
  "cells": [
    {
      "cell_type": "markdown",
      "metadata": {
        "id": "view-in-github",
        "colab_type": "text"
      },
      "source": [
        "<a href=\"https://colab.research.google.com/github/Lexie1227/5002/blob/main/assignment.ipynb\" target=\"_parent\"><img src=\"https://colab.research.google.com/assets/colab-badge.svg\" alt=\"Open In Colab\"/></a>"
      ]
    },
    {
      "cell_type": "markdown",
      "metadata": {
        "id": "4FQohFlSJFdg"
      },
      "source": [
        "**assignment **\n",
        "jingshu zhang\n",
        "\n",
        "1. choose an company(facebook)\n",
        "2. get information from yahoo finance\n",
        "use symbblo to go the profile page\n",
        "3. get table\n"
      ]
    },
    {
      "cell_type": "code",
      "metadata": {
        "id": "irek1QOOHj5u"
      },
      "source": [
        "# Get install yfinance\n",
        "!pip install yfinance\n",
        "\n",
        "import yfinance as yf\n",
        "#Find the ticker symbol\n",
        "fb= yf.Ticker(\"FB\")\n",
        "#get stock infromation\n",
        "print(fb.info)"
      ],
      "execution_count": null,
      "outputs": []
    },
    {
      "cell_type": "code",
      "metadata": {
        "colab": {
          "base_uri": "https://localhost:8080/"
        },
        "id": "p_0Y_RrFLuFV",
        "outputId": "1ad58d51-bfae-40fa-d4e7-9544a7ea391f"
      },
      "source": [
        "#use ticker to get page\n",
        "company_ticker = input(\"What is your Company's Stock Market Ticker Symbol? \")\n",
        "url = \"https://au.finance.yahoo.com/quote/{}/profile?p={}\".format(company_ticker,company_ticker)\n",
        "print(url)"
      ],
      "execution_count": 11,
      "outputs": [
        {
          "output_type": "stream",
          "name": "stdout",
          "text": [
            "What is your Company's Stock Market Ticker Symbol? FB\n",
            "https://au.finance.yahoo.com/quote/FB/profile?p=FB\n"
          ]
        }
      ]
    },
    {
      "cell_type": "code",
      "metadata": {
        "id": "wcvT5mw0L24g"
      },
      "source": [
        "def build_url():\n",
        "  ''' This function will build the URL of the profile page'''\n",
        "  ticker_symbol = input(\"Please input ticker symbol\")\n",
        "  example_url = 'https://au.finance.yahoo.com/quote/{}/profile?p={}'\n",
        "  result = example_url.format(ticker_symbol, ticker_symbol)\n",
        "  return result"
      ],
      "execution_count": 18,
      "outputs": []
    },
    {
      "cell_type": "code",
      "metadata": {
        "colab": {
          "base_uri": "https://localhost:8080/",
          "height": 52
        },
        "id": "XCwG4ALjxoXL",
        "outputId": "f6d6a9d1-0935-4a2a-e9fd-a3f1f94df3a9"
      },
      "source": [
        "build_url()"
      ],
      "execution_count": 20,
      "outputs": [
        {
          "name": "stdout",
          "output_type": "stream",
          "text": [
            "Please input ticker symbolFB\n"
          ]
        },
        {
          "output_type": "execute_result",
          "data": {
            "application/vnd.google.colaboratory.intrinsic+json": {
              "type": "string"
            },
            "text/plain": [
              "'https://au.finance.yahoo.com/quote/FB/profile?p=FB'"
            ]
          },
          "metadata": {},
          "execution_count": 20
        }
      ]
    }
  ]
}